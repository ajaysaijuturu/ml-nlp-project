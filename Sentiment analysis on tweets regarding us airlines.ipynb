{
  "nbformat": 4,
  "nbformat_minor": 0,
  "metadata": {
    "colab": {
      "provenance": []
    },
    "kernelspec": {
      "name": "python3",
      "display_name": "Python 3"
    },
    "language_info": {
      "name": "python"
    }
  },
  "cells": [
    {
      "cell_type": "code",
      "execution_count": null,
      "metadata": {
        "colab": {
          "base_uri": "https://localhost:8080/"
        },
        "id": "HfraAwiupb6_",
        "outputId": "6746076d-c1fb-47bf-fe8f-c927c7f5f49c"
      },
      "outputs": [
        {
          "output_type": "stream",
          "name": "stdout",
          "text": [
            "                 tweet_id airline_sentiment  airline_sentiment_confidence  \\\n",
            "4794   569731104070115329          positive                        1.0000   \n",
            "10480  569263373092823040          negative                        1.0000   \n",
            "8067   568818669024907264          negative                        1.0000   \n",
            "8880   567775864679456768           neutral                        1.0000   \n",
            "8292   568526521910079488          negative                        0.6625   \n",
            "\n",
            "               negativereason  negativereason_confidence     airline  \\\n",
            "4794                      NaN                        NaN   Southwest   \n",
            "10480        Cancelled Flight                     1.0000  US Airways   \n",
            "8067              Late Flight                     0.6770       Delta   \n",
            "8880                      NaN                        NaN       Delta   \n",
            "8292   Customer Service Issue                     0.3394       Delta   \n",
            "\n",
            "      airline_sentiment_gold             name negativereason_gold  \\\n",
            "4794                     NaN        JasmineDT                 NaN   \n",
            "10480                    NaN  ElizabethFrayer                 NaN   \n",
            "8067                     NaN     The_Radifier                 NaN   \n",
            "8880                     NaN        rnlewisjr                 NaN   \n",
            "8292                     NaN         beantoon                 NaN   \n",
            "\n",
            "       retweet_count                                               text  \\\n",
            "4794               1  @SouthwestAir you're my early frontrunner for ...   \n",
            "10480              0  @USAirways how is it that my flt to EWR was Ca...   \n",
            "8067               0  @JetBlue what is going on with your BDL to DCA...   \n",
            "8880               0  @JetBlue do they have to depart from Washingto...   \n",
            "8292               0  @JetBlue I can probably find some of them. Are...   \n",
            "\n",
            "      tweet_coord              tweet_created                 tweet_location  \\\n",
            "4794          NaN  2015-02-22 21:30:54 -0800               Washington D.C.    \n",
            "10480         NaN  2015-02-21 14:32:19 -0800                            NaN   \n",
            "8067          NaN  2015-02-20 09:05:13 -0800                  Arlington, VA   \n",
            "8880          NaN  2015-02-17 12:01:29 -0800  iPhone: 60.495510,-151.064590   \n",
            "8292          NaN  2015-02-19 13:44:20 -0800                  Plymouth,  MA   \n",
            "\n",
            "                    user_timezone  \n",
            "4794   Eastern Time (US & Canada)  \n",
            "10480                         NaN  \n",
            "8067       Atlantic Time (Canada)  \n",
            "8880                       Alaska  \n",
            "8292                          NaN  \n",
            "Accuracy: 0.6928327645051194\n",
            "Confusion Matrix:\n",
            "[[185   2   0]\n",
            " [ 52  11   2]\n",
            " [ 31   3   7]]\n",
            "Classification Report:\n",
            "              precision    recall  f1-score   support\n",
            "\n",
            "           0       0.69      0.99      0.81       187\n",
            "           1       0.69      0.17      0.27        65\n",
            "           2       0.78      0.17      0.28        41\n",
            "\n",
            "    accuracy                           0.69       293\n",
            "   macro avg       0.72      0.44      0.45       293\n",
            "weighted avg       0.70      0.69      0.62       293\n",
            "\n"
          ]
        }
      ],
      "source": [
        "import pandas as pd\n",
        "from sklearn.model_selection import train_test_split\n",
        "from sklearn.feature_extraction.text import CountVectorizer\n",
        "from sklearn.naive_bayes import MultinomialNB\n",
        "from sklearn.metrics import accuracy_score, classification_report, confusion_matrix\n",
        "\n",
        "df = pd.read_csv(\"Tweets.csv\")\n",
        "\n",
        "df = df.sample(frac=0.1, random_state=42)\n",
        "\n",
        "print(df.head())\n",
        "\n",
        "df[\"label\"] = df[\"airline_sentiment\"].map({'negative': 0, 'neutral': 1, 'positive': 2})\n",
        "\n",
        "X_train, X_test, y_train, y_test = train_test_split(df[\"text\"], df[\"label\"], test_size=0.2, random_state=42)\n",
        "\n",
        "vectorizer = CountVectorizer()\n",
        "X_train_vectorized = vectorizer.fit_transform(X_train)\n",
        "X_test_vectorized = vectorizer.transform(X_test)\n",
        "\n",
        "model = MultinomialNB()\n",
        "model.fit(X_train_vectorized, y_train)\n",
        "\n",
        "y_pred = model.predict(X_test_vectorized)\n",
        "\n",
        "accuracy = accuracy_score(y_test, y_pred)\n",
        "conf_matrix = confusion_matrix(y_test, y_pred)\n",
        "class_report = classification_report(y_test, y_pred)\n",
        "\n",
        "print(f'Accuracy: {accuracy}')\n",
        "print(f'Confusion Matrix:\\n{conf_matrix}')\n",
        "print(f'Classification Report:\\n{class_report}')\n"
      ]
    }
  ]
}